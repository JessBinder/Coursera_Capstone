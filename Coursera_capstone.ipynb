#this notebook will be mainly used for the capstone project.
import the pandas library as pd
import the Numpy library as np
print('Hello Capstone Project Course!')
